{
 "cells": [
  {
   "cell_type": "markdown",
   "metadata": {},
   "source": [
    "https://pytorch.org/docs/stable/generated/torch.nn.Module.html"
   ]
  },
  {
   "cell_type": "markdown",
   "metadata": {},
   "source": [
    "https://pytorch.org/docs/stable/nn.html"
   ]
  },
  {
   "cell_type": "markdown",
   "metadata": {},
   "source": [
    "https://pytorch.org/docs/stable/nn.html"
   ]
  },
  {
   "cell_type": "markdown",
   "metadata": {},
   "source": [
    "https://pytorch.org/docs/stable/torchvision/datasets.html"
   ]
  },
  {
   "cell_type": "markdown",
   "metadata": {},
   "source": [
    "https://pytorch.org/docs/stable/generated/torch.nn.Dropout2d.html"
   ]
  },
  {
   "cell_type": "markdown",
   "metadata": {},
   "source": [
    "https://pytorch.org/tutorials/beginner/former_torchies/nnft_tutorial.html"
   ]
  },
  {
   "cell_type": "code",
   "execution_count": 1,
   "metadata": {},
   "outputs": [],
   "source": [
    "import matplotlib.pyplot as plt\n",
    "\n",
    "import torch\n",
    "import torch.nn as nn\n",
    "import torch.nn.functional as F\n",
    "import torch.optim as optim\n",
    "import torch.utils.data\n",
    "\n",
    "from torch.autograd import Variable\n",
    "\n",
    "from torchvision import(datasets,transforms,models,utils)"
   ]
  },
  {
   "cell_type": "code",
   "execution_count": 2,
   "metadata": {},
   "outputs": [],
   "source": [
    "# Training Parameters\n",
    "batch_size = 128\n",
    "learning_rate = 0.01\n",
    "dropout_p = 0.35\n",
    "color_scale = 1\n",
    "num_hidden_units = 50\n",
    "num_classes = 10\n",
    "decay_rate = 0.0009\n",
    "\n",
    "# Use GPU\n",
    "cuda = True\n",
    "cuda = cuda and torch.cuda.is_available()\n",
    "\n",
    "# Reproduceability\n",
    "seed = 42\n",
    "torch.manual_seed(seed)\n",
    "if cuda:\n",
    "    torch.cuda.manual_seed(seed)"
   ]
  },
  {
   "cell_type": "code",
   "execution_count": 3,
   "metadata": {},
   "outputs": [],
   "source": [
    "train_loader = torch.utils.data.DataLoader(\n",
    "    datasets.MNIST('data/mnist', train=True, download=False,transform=transforms.Compose([\n",
    "    transforms.ToTensor(), transforms.Normalize((0.135,), (0.305,))\n",
    "    ])),\n",
    "    batch_size=batch_size, shuffle=True)\n",
    "\n",
    "test_loader = torch.utils.data.DataLoader(\n",
    "    datasets.MNIST('data/mnist', train=False, download=False,transform=transforms.Compose([\n",
    "    transforms.ToTensor(), transforms.Normalize((0.135,), (0.305,))\n",
    "    ])),\n",
    "    batch_size=batch_size, shuffle=True)"
   ]
  },
  {
   "cell_type": "code",
   "execution_count": 4,
   "metadata": {},
   "outputs": [
    {
     "data": {
      "image/png": "[encoded data removed]",
      "text/plain": [
       "<Figure size 432x288 with 5 Axes>"
      ]
     },
     "metadata": {
      "needs_background": "light"
     },
     "output_type": "display_data"
    }
   ],
   "source": [
    "# Visualize\n",
    "batch = next(iter(test_loader))\n",
    "samples = batch[0][:5]\n",
    "y_true = batch[1]\n",
    "for i, sample in enumerate(samples):\n",
    "    plt.subplot(1, 5, i+1)\n",
    "    plt.title('Number: %i' % y_true[i])\n",
    "    plt.imshow(sample.numpy().reshape((28,28)))\n",
    "    plt.axis('off')"
   ]
  },
  {
   "cell_type": "code",
   "execution_count": 5,
   "metadata": {},
   "outputs": [],
   "source": [
    "class CNN(nn.Module):\n",
    "    def __init__(self, dropout_p, num_hidden_units, num_classes):\n",
    "        super(CNN, self).__init__()\n",
    "        self.conv1 = nn.Conv2d(color_scale, 10, kernel_size=5)\n",
    "        self.pool1 = nn.MaxPool2d(2,2)\n",
    "        self.conv2 = nn.Conv2d(10, 20, kernel_size=5)\n",
    "        self.dropout_conv2 = nn.Dropout2d(dropout_p)\n",
    "        self.pool2 = nn.MaxPool2d(2,2)\n",
    "        self.fc1 = nn.Linear(20*4*4, num_hidden_units)\n",
    "        self.fc2 = nn.Linear(num_hidden_units, num_classes)\n",
    "\n",
    "    def forward(self, x_input):\n",
    "        x = self.pool1(F.relu(self.conv1(x_input)))\n",
    "        x = self.dropout_conv2(F.relu(self.pool2(self.conv2(x))))\n",
    "        x = x.view(-1,20*4*4)\n",
    "        x = F.relu(self.fc1(x))\n",
    "        x = F.dropout(x, training=self.training)\n",
    "        x = self.fc2(x)\n",
    "        return x"
   ]
  },
  {
   "cell_type": "code",
   "execution_count": 6,
   "metadata": {},
   "outputs": [],
   "source": [
    "# Initialize Model\n",
    "cnn = CNN(dropout_p, num_hidden_units, num_classes)\n",
    "if cuda:\n",
    "    cnn.cuda()\n",
    "optimizer = optim.Adagrad(cnn.parameters(), lr = learning_rate,weight_decay=decay_rate)\n",
    "loss_func = torch.nn.CrossEntropyLoss()"
   ]
  },
  {
   "cell_type": "code",
   "execution_count": 7,
   "metadata": {},
   "outputs": [],
   "source": [
    "def fit(model, train_loader):\n",
    "    epochs = 5\n",
    "    model.train()\n",
    "    for epoch in range(epochs):\n",
    "        correct = 0\n",
    "        for idx, (X, y) in enumerate(train_loader):\n",
    "            var_X = Variable(X).float()\n",
    "            var_y = Variable(y)\n",
    "            optimizer.zero_grad()\n",
    "            y_hat = model(var_X)\n",
    "            loss = loss_func(y_hat, var_y)\n",
    "            loss.backward()\n",
    "            optimizer.step()\n",
    "\n",
    "            # Total correct predictions\n",
    "            predicted = torch.max(y_hat.data, 1)[1] \n",
    "            correct += (predicted == var_y).sum()\n",
    "        #print(correct)\n",
    "        print('Epoch: {} \\tLoss: {:.6f}\\t Accuracy:{:.3f}%'.format(epoch, loss.data, float(correct*100) / float(batch_size*(idx+1))))"
   ]
  },
  {
   "cell_type": "code",
   "execution_count": 8,
   "metadata": {},
   "outputs": [
    {
     "name": "stdout",
     "output_type": "stream",
     "text": [
      "Epoch: 0 \tLoss: 0.467732\t Accuracy:87.037%\n",
      "Epoch: 1 \tLoss: 0.240803\t Accuracy:93.453%\n",
      "Epoch: 2 \tLoss: 0.068987\t Accuracy:94.478%\n",
      "Epoch: 3 \tLoss: 0.227914\t Accuracy:95.073%\n",
      "Epoch: 4 \tLoss: 0.205656\t Accuracy:95.291%\n"
     ]
    }
   ],
   "source": [
    "fit(cnn,train_loader)"
   ]
  },
  {
   "cell_type": "code",
   "execution_count": 9,
   "metadata": {},
   "outputs": [],
   "source": [
    "def tester(model):\n",
    "    correct = 0.0\n",
    "    for test_imgs, test_labels in test_loader:\n",
    "        test_imgs = Variable(test_imgs).float()\n",
    "        y_hat = model(test_imgs)\n",
    "        predicted = torch.max(y_hat,1)[1]\n",
    "        correct += (predicted == test_labels).sum()\n",
    "    print(\"Test accuracy:{:.3f}% \".format( 100 * correct / (len(test_loader)*batch_size)))"
   ]
  },
  {
   "cell_type": "code",
   "execution_count": 10,
   "metadata": {},
   "outputs": [
    {
     "name": "stdout",
     "output_type": "stream",
     "text": [
      "Test accuracy:94.808% \n"
     ]
    }
   ],
   "source": [
    "tester(cnn)"
   ]
  },
  {
   "cell_type": "code",
   "execution_count": 11,
   "metadata": {},
   "outputs": [],
   "source": [
    "def infer(model,inputs):\n",
    "    if cuda:\n",
    "        inputs = inputs.cuda()\n",
    "    with torch.no_grad():\n",
    "        X = Variable(inputs, requires_grad=False)\n",
    "        scores = model(X)\n",
    "        score, predicted = torch.max(scores,1)\n",
    "    return predicted    "
   ]
  },
  {
   "cell_type": "code",
   "execution_count": 12,
   "metadata": {},
   "outputs": [
    {
     "data": {
      "image/png": "[encoded data removed]",
      "text/plain": [
       "<Figure size 432x288 with 10 Axes>"
      ]
     },
     "metadata": {
      "needs_background": "light"
     },
     "output_type": "display_data"
    }
   ],
   "source": [
    "# Visualize Predictions\n",
    "batch = next(iter(test_loader))\n",
    "samples = batch[0][:10]\n",
    "y_preds = infer(cnn,samples)\n",
    "for i, sample in enumerate(samples):\n",
    "    plt.subplot(1, 10, i+1)\n",
    "    #Use P as symbol for Prediction\n",
    "    plt.title('P: %i' % y_preds[i].data)\n",
    "    plt.imshow(sample.numpy().reshape((28,28)))\n",
    "    plt.axis('off')"
   ]
  },
  {
   "cell_type": "code",
   "execution_count": null,
   "metadata": {},
   "outputs": [],
   "source": []
  },
  {
   "cell_type": "code",
   "execution_count": null,
   "metadata": {},
   "outputs": [],
   "source": []
  }
 ],
 "metadata": {
  "kernelspec": {
   "display_name": "Python 3",
   "language": "python",
   "name": "python3"
  },
  "language_info": {
   "codemirror_mode": {
    "name": "ipython",
    "version": 3
   },
   "file_extension": ".py",
   "mimetype": "text/x-python",
   "name": "python",
   "nbconvert_exporter": "python",
   "pygments_lexer": "ipython3",
   "version": "3.7.7"
  }
 },
 "nbformat": 4,
 "nbformat_minor": 4
}
